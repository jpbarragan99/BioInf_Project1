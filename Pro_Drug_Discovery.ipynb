{
  "cells": [
    {
      "cell_type": "markdown",
      "source": [
        "# **Computational Drug Discovery [Part 1] Download Bioactivity Data**"
      ],
      "metadata": {
        "id": "SJxR4O8-_Ba8"
      },
      "id": "SJxR4O8-_Ba8"
    },
    {
      "cell_type": "markdown",
      "source": [
        "This notebook was made following a tutorial by **Chanin Nantasenamat**. \n",
        "\n",
        "\n",
        "The objective of this project is to create a machine learning model using the ChEMBL bioactivity data, usign the power of data science for drug discovery.\n",
        "\n",
        "\n",
        "The ChEMBL is a \"*manually curated database of bioactive molecules with drug-like properties. It brings together chemical, bioactivity and genomic data to aid the translation of genomic information into effective new drugs.*\"\n",
        "\n"
      ],
      "metadata": {
        "id": "2W__H_cx4UxR"
      },
      "id": "2W__H_cx4UxR"
    },
    {
      "cell_type": "markdown",
      "source": [
        "## **Installing the ChEMBL library**\n",
        "\n",
        "The first step we will take is installing the ChEMBL library, so that we can retrieve bioactivity data from the ChEMBL Database.*italicized text*"
      ],
      "metadata": {
        "id": "Q7CV5mD15ZLj"
      },
      "id": "Q7CV5mD15ZLj"
    },
    {
      "cell_type": "code",
      "source": [
        "! pip install chembl_webresource_client"
      ],
      "metadata": {
        "colab": {
          "base_uri": "https://localhost:8080/"
        },
        "id": "ebFqpmf84OF8",
        "outputId": "40571cef-fdb8-4b84-addc-da4b551cd108"
      },
      "id": "ebFqpmf84OF8",
      "execution_count": 50,
      "outputs": [
        {
          "output_type": "stream",
          "name": "stdout",
          "text": [
            "Looking in indexes: https://pypi.org/simple, https://us-python.pkg.dev/colab-wheels/public/simple/\n",
            "Requirement already satisfied: chembl_webresource_client in /usr/local/lib/python3.7/dist-packages (0.10.8)\n",
            "Requirement already satisfied: urllib3 in /usr/local/lib/python3.7/dist-packages (from chembl_webresource_client) (1.24.3)\n",
            "Requirement already satisfied: requests-cache~=0.7.0 in /usr/local/lib/python3.7/dist-packages (from chembl_webresource_client) (0.7.5)\n",
            "Requirement already satisfied: easydict in /usr/local/lib/python3.7/dist-packages (from chembl_webresource_client) (1.9)\n",
            "Requirement already satisfied: requests>=2.18.4 in /usr/local/lib/python3.7/dist-packages (from chembl_webresource_client) (2.23.0)\n",
            "Requirement already satisfied: idna<3,>=2.5 in /usr/local/lib/python3.7/dist-packages (from requests>=2.18.4->chembl_webresource_client) (2.10)\n",
            "Requirement already satisfied: chardet<4,>=3.0.2 in /usr/local/lib/python3.7/dist-packages (from requests>=2.18.4->chembl_webresource_client) (3.0.4)\n",
            "Requirement already satisfied: certifi>=2017.4.17 in /usr/local/lib/python3.7/dist-packages (from requests>=2.18.4->chembl_webresource_client) (2022.6.15)\n",
            "Requirement already satisfied: pyyaml>=5.4 in /usr/local/lib/python3.7/dist-packages (from requests-cache~=0.7.0->chembl_webresource_client) (6.0)\n",
            "Requirement already satisfied: url-normalize<2.0,>=1.4 in /usr/local/lib/python3.7/dist-packages (from requests-cache~=0.7.0->chembl_webresource_client) (1.4.3)\n",
            "Requirement already satisfied: itsdangerous>=2.0.1 in /usr/local/lib/python3.7/dist-packages (from requests-cache~=0.7.0->chembl_webresource_client) (2.1.2)\n",
            "Requirement already satisfied: attrs<22.0,>=21.2 in /usr/local/lib/python3.7/dist-packages (from requests-cache~=0.7.0->chembl_webresource_client) (21.4.0)\n",
            "Requirement already satisfied: six in /usr/local/lib/python3.7/dist-packages (from url-normalize<2.0,>=1.4->requests-cache~=0.7.0->chembl_webresource_client) (1.15.0)\n"
          ]
        }
      ]
    },
    {
      "cell_type": "code",
      "execution_count": 51,
      "id": "7b15175f",
      "metadata": {
        "id": "7b15175f"
      },
      "outputs": [],
      "source": [
        "#importing the necessary libraries\n",
        "import pandas as pd\n",
        "from chembl_webresource_client.new_client import new_client"
      ]
    },
    {
      "cell_type": "markdown",
      "id": "3c0ee3f1",
      "metadata": {
        "id": "3c0ee3f1"
      },
      "source": [
        "In this case we will use Influenza as an example but it will work with other entries."
      ]
    },
    {
      "cell_type": "markdown",
      "source": [
        "## **Searching the Target Protein**"
      ],
      "metadata": {
        "id": "QrMa_EF5646V"
      },
      "id": "QrMa_EF5646V"
    },
    {
      "cell_type": "code",
      "execution_count": 52,
      "id": "0515a9d4",
      "metadata": {
        "colab": {
          "base_uri": "https://localhost:8080/",
          "height": 470
        },
        "id": "0515a9d4",
        "outputId": "c01c0095-46d1-4c99-ba4e-09c9226bf82e"
      },
      "outputs": [
        {
          "output_type": "execute_result",
          "data": {
            "text/plain": [
              "                                     cross_references  \\\n",
              "0                                                  []   \n",
              "1                                                  []   \n",
              "2                                                  []   \n",
              "3                                                  []   \n",
              "4   [{'xref_id': 'P03438', 'xref_name': None, 'xre...   \n",
              "5                                                  []   \n",
              "6                                                  []   \n",
              "7   [{'xref_id': 'P63231', 'xref_name': None, 'xre...   \n",
              "8                                                  []   \n",
              "9                                                  []   \n",
              "10                                                 []   \n",
              "11                                                 []   \n",
              "\n",
              "                                          organism  \\\n",
              "0                     unidentified influenza virus   \n",
              "1                                Influenza B virus   \n",
              "2                                Influenza A virus   \n",
              "3                                Influenza C virus   \n",
              "4           Influenza A virus (strain A/X-31 H3N2)   \n",
              "5                         Influenza A virus (H5N1)   \n",
              "6                           Influenza A virus H3N2   \n",
              "7       Influenza A virus (A/Udorn/307/1972(H3N2))   \n",
              "8                     Influenza B virus (B/Lee/40)   \n",
              "9            Unidentified Influenza A virus (H1N2)   \n",
              "10  Influenza A virus (A/Puerto Rico/8/1934(H1N1))   \n",
              "11                          Haemophilus influenzae   \n",
              "\n",
              "                                pref_name  score  species_group_flag  \\\n",
              "0            unidentified influenza virus   12.0               False   \n",
              "1                       Influenza B virus   12.0               False   \n",
              "2                       Influenza A virus   12.0               False   \n",
              "3                       Influenza C virus   12.0               False   \n",
              "4         Influenza A virus Hemagglutinin   11.0               False   \n",
              "5                Influenza A virus (H5N1)   11.0               False   \n",
              "6                  Influenza A virus H3N2   11.0               False   \n",
              "7     Influenza virus A matrix protein M2    9.0               False   \n",
              "8            Influenza B virus (B/Lee/40)    9.0               False   \n",
              "9   Unidentified Influenza A virus (H1N2)    9.0               False   \n",
              "10    Influenza A virus (A/PR/8/34(H1N1))    8.0               False   \n",
              "11                 Haemophilus influenzae    6.0               False   \n",
              "\n",
              "   target_chembl_id                                  target_components  \\\n",
              "0      CHEMBL613128                                                 []   \n",
              "1      CHEMBL613129                                                 []   \n",
              "2      CHEMBL613740                                                 []   \n",
              "3      CHEMBL612783                                                 []   \n",
              "4        CHEMBL4918  [{'accession': 'P03438', 'component_descriptio...   \n",
              "5      CHEMBL613845                                                 []   \n",
              "6     CHEMBL2366902                                                 []   \n",
              "7        CHEMBL2052  [{'accession': 'P0DOF8', 'component_descriptio...   \n",
              "8      CHEMBL612452                                                 []   \n",
              "9     CHEMBL2367089                                                 []   \n",
              "10     CHEMBL612610                                                 []   \n",
              "11        CHEMBL355                                                 []   \n",
              "\n",
              "       target_type   tax_id  \n",
              "0         ORGANISM    11309  \n",
              "1         ORGANISM    11520  \n",
              "2         ORGANISM    11320  \n",
              "3         ORGANISM    11552  \n",
              "4   SINGLE PROTEIN   132504  \n",
              "5         ORGANISM   102793  \n",
              "6         ORGANISM    41857  \n",
              "7   SINGLE PROTEIN   381517  \n",
              "8         ORGANISM   107412  \n",
              "9         ORGANISM  1323429  \n",
              "10        ORGANISM   211044  \n",
              "11        ORGANISM      727  "
            ],
            "text/html": [
              "\n",
              "  <div id=\"df-6c8b5fdd-fd6a-4514-89bc-cb49f037a536\">\n",
              "    <div class=\"colab-df-container\">\n",
              "      <div>\n",
              "<style scoped>\n",
              "    .dataframe tbody tr th:only-of-type {\n",
              "        vertical-align: middle;\n",
              "    }\n",
              "\n",
              "    .dataframe tbody tr th {\n",
              "        vertical-align: top;\n",
              "    }\n",
              "\n",
              "    .dataframe thead th {\n",
              "        text-align: right;\n",
              "    }\n",
              "</style>\n",
              "<table border=\"1\" class=\"dataframe\">\n",
              "  <thead>\n",
              "    <tr style=\"text-align: right;\">\n",
              "      <th></th>\n",
              "      <th>cross_references</th>\n",
              "      <th>organism</th>\n",
              "      <th>pref_name</th>\n",
              "      <th>score</th>\n",
              "      <th>species_group_flag</th>\n",
              "      <th>target_chembl_id</th>\n",
              "      <th>target_components</th>\n",
              "      <th>target_type</th>\n",
              "      <th>tax_id</th>\n",
              "    </tr>\n",
              "  </thead>\n",
              "  <tbody>\n",
              "    <tr>\n",
              "      <th>0</th>\n",
              "      <td>[]</td>\n",
              "      <td>unidentified influenza virus</td>\n",
              "      <td>unidentified influenza virus</td>\n",
              "      <td>12.0</td>\n",
              "      <td>False</td>\n",
              "      <td>CHEMBL613128</td>\n",
              "      <td>[]</td>\n",
              "      <td>ORGANISM</td>\n",
              "      <td>11309</td>\n",
              "    </tr>\n",
              "    <tr>\n",
              "      <th>1</th>\n",
              "      <td>[]</td>\n",
              "      <td>Influenza B virus</td>\n",
              "      <td>Influenza B virus</td>\n",
              "      <td>12.0</td>\n",
              "      <td>False</td>\n",
              "      <td>CHEMBL613129</td>\n",
              "      <td>[]</td>\n",
              "      <td>ORGANISM</td>\n",
              "      <td>11520</td>\n",
              "    </tr>\n",
              "    <tr>\n",
              "      <th>2</th>\n",
              "      <td>[]</td>\n",
              "      <td>Influenza A virus</td>\n",
              "      <td>Influenza A virus</td>\n",
              "      <td>12.0</td>\n",
              "      <td>False</td>\n",
              "      <td>CHEMBL613740</td>\n",
              "      <td>[]</td>\n",
              "      <td>ORGANISM</td>\n",
              "      <td>11320</td>\n",
              "    </tr>\n",
              "    <tr>\n",
              "      <th>3</th>\n",
              "      <td>[]</td>\n",
              "      <td>Influenza C virus</td>\n",
              "      <td>Influenza C virus</td>\n",
              "      <td>12.0</td>\n",
              "      <td>False</td>\n",
              "      <td>CHEMBL612783</td>\n",
              "      <td>[]</td>\n",
              "      <td>ORGANISM</td>\n",
              "      <td>11552</td>\n",
              "    </tr>\n",
              "    <tr>\n",
              "      <th>4</th>\n",
              "      <td>[{'xref_id': 'P03438', 'xref_name': None, 'xre...</td>\n",
              "      <td>Influenza A virus (strain A/X-31 H3N2)</td>\n",
              "      <td>Influenza A virus Hemagglutinin</td>\n",
              "      <td>11.0</td>\n",
              "      <td>False</td>\n",
              "      <td>CHEMBL4918</td>\n",
              "      <td>[{'accession': 'P03438', 'component_descriptio...</td>\n",
              "      <td>SINGLE PROTEIN</td>\n",
              "      <td>132504</td>\n",
              "    </tr>\n",
              "    <tr>\n",
              "      <th>5</th>\n",
              "      <td>[]</td>\n",
              "      <td>Influenza A virus (H5N1)</td>\n",
              "      <td>Influenza A virus (H5N1)</td>\n",
              "      <td>11.0</td>\n",
              "      <td>False</td>\n",
              "      <td>CHEMBL613845</td>\n",
              "      <td>[]</td>\n",
              "      <td>ORGANISM</td>\n",
              "      <td>102793</td>\n",
              "    </tr>\n",
              "    <tr>\n",
              "      <th>6</th>\n",
              "      <td>[]</td>\n",
              "      <td>Influenza A virus H3N2</td>\n",
              "      <td>Influenza A virus H3N2</td>\n",
              "      <td>11.0</td>\n",
              "      <td>False</td>\n",
              "      <td>CHEMBL2366902</td>\n",
              "      <td>[]</td>\n",
              "      <td>ORGANISM</td>\n",
              "      <td>41857</td>\n",
              "    </tr>\n",
              "    <tr>\n",
              "      <th>7</th>\n",
              "      <td>[{'xref_id': 'P63231', 'xref_name': None, 'xre...</td>\n",
              "      <td>Influenza A virus (A/Udorn/307/1972(H3N2))</td>\n",
              "      <td>Influenza virus A matrix protein M2</td>\n",
              "      <td>9.0</td>\n",
              "      <td>False</td>\n",
              "      <td>CHEMBL2052</td>\n",
              "      <td>[{'accession': 'P0DOF8', 'component_descriptio...</td>\n",
              "      <td>SINGLE PROTEIN</td>\n",
              "      <td>381517</td>\n",
              "    </tr>\n",
              "    <tr>\n",
              "      <th>8</th>\n",
              "      <td>[]</td>\n",
              "      <td>Influenza B virus (B/Lee/40)</td>\n",
              "      <td>Influenza B virus (B/Lee/40)</td>\n",
              "      <td>9.0</td>\n",
              "      <td>False</td>\n",
              "      <td>CHEMBL612452</td>\n",
              "      <td>[]</td>\n",
              "      <td>ORGANISM</td>\n",
              "      <td>107412</td>\n",
              "    </tr>\n",
              "    <tr>\n",
              "      <th>9</th>\n",
              "      <td>[]</td>\n",
              "      <td>Unidentified Influenza A virus (H1N2)</td>\n",
              "      <td>Unidentified Influenza A virus (H1N2)</td>\n",
              "      <td>9.0</td>\n",
              "      <td>False</td>\n",
              "      <td>CHEMBL2367089</td>\n",
              "      <td>[]</td>\n",
              "      <td>ORGANISM</td>\n",
              "      <td>1323429</td>\n",
              "    </tr>\n",
              "    <tr>\n",
              "      <th>10</th>\n",
              "      <td>[]</td>\n",
              "      <td>Influenza A virus (A/Puerto Rico/8/1934(H1N1))</td>\n",
              "      <td>Influenza A virus (A/PR/8/34(H1N1))</td>\n",
              "      <td>8.0</td>\n",
              "      <td>False</td>\n",
              "      <td>CHEMBL612610</td>\n",
              "      <td>[]</td>\n",
              "      <td>ORGANISM</td>\n",
              "      <td>211044</td>\n",
              "    </tr>\n",
              "    <tr>\n",
              "      <th>11</th>\n",
              "      <td>[]</td>\n",
              "      <td>Haemophilus influenzae</td>\n",
              "      <td>Haemophilus influenzae</td>\n",
              "      <td>6.0</td>\n",
              "      <td>False</td>\n",
              "      <td>CHEMBL355</td>\n",
              "      <td>[]</td>\n",
              "      <td>ORGANISM</td>\n",
              "      <td>727</td>\n",
              "    </tr>\n",
              "  </tbody>\n",
              "</table>\n",
              "</div>\n",
              "      <button class=\"colab-df-convert\" onclick=\"convertToInteractive('df-6c8b5fdd-fd6a-4514-89bc-cb49f037a536')\"\n",
              "              title=\"Convert this dataframe to an interactive table.\"\n",
              "              style=\"display:none;\">\n",
              "        \n",
              "  <svg xmlns=\"http://www.w3.org/2000/svg\" height=\"24px\"viewBox=\"0 0 24 24\"\n",
              "       width=\"24px\">\n",
              "    <path d=\"M0 0h24v24H0V0z\" fill=\"none\"/>\n",
              "    <path d=\"M18.56 5.44l.94 2.06.94-2.06 2.06-.94-2.06-.94-.94-2.06-.94 2.06-2.06.94zm-11 1L8.5 8.5l.94-2.06 2.06-.94-2.06-.94L8.5 2.5l-.94 2.06-2.06.94zm10 10l.94 2.06.94-2.06 2.06-.94-2.06-.94-.94-2.06-.94 2.06-2.06.94z\"/><path d=\"M17.41 7.96l-1.37-1.37c-.4-.4-.92-.59-1.43-.59-.52 0-1.04.2-1.43.59L10.3 9.45l-7.72 7.72c-.78.78-.78 2.05 0 2.83L4 21.41c.39.39.9.59 1.41.59.51 0 1.02-.2 1.41-.59l7.78-7.78 2.81-2.81c.8-.78.8-2.07 0-2.86zM5.41 20L4 18.59l7.72-7.72 1.47 1.35L5.41 20z\"/>\n",
              "  </svg>\n",
              "      </button>\n",
              "      \n",
              "  <style>\n",
              "    .colab-df-container {\n",
              "      display:flex;\n",
              "      flex-wrap:wrap;\n",
              "      gap: 12px;\n",
              "    }\n",
              "\n",
              "    .colab-df-convert {\n",
              "      background-color: #E8F0FE;\n",
              "      border: none;\n",
              "      border-radius: 50%;\n",
              "      cursor: pointer;\n",
              "      display: none;\n",
              "      fill: #1967D2;\n",
              "      height: 32px;\n",
              "      padding: 0 0 0 0;\n",
              "      width: 32px;\n",
              "    }\n",
              "\n",
              "    .colab-df-convert:hover {\n",
              "      background-color: #E2EBFA;\n",
              "      box-shadow: 0px 1px 2px rgba(60, 64, 67, 0.3), 0px 1px 3px 1px rgba(60, 64, 67, 0.15);\n",
              "      fill: #174EA6;\n",
              "    }\n",
              "\n",
              "    [theme=dark] .colab-df-convert {\n",
              "      background-color: #3B4455;\n",
              "      fill: #D2E3FC;\n",
              "    }\n",
              "\n",
              "    [theme=dark] .colab-df-convert:hover {\n",
              "      background-color: #434B5C;\n",
              "      box-shadow: 0px 1px 3px 1px rgba(0, 0, 0, 0.15);\n",
              "      filter: drop-shadow(0px 1px 2px rgba(0, 0, 0, 0.3));\n",
              "      fill: #FFFFFF;\n",
              "    }\n",
              "  </style>\n",
              "\n",
              "      <script>\n",
              "        const buttonEl =\n",
              "          document.querySelector('#df-6c8b5fdd-fd6a-4514-89bc-cb49f037a536 button.colab-df-convert');\n",
              "        buttonEl.style.display =\n",
              "          google.colab.kernel.accessAllowed ? 'block' : 'none';\n",
              "\n",
              "        async function convertToInteractive(key) {\n",
              "          const element = document.querySelector('#df-6c8b5fdd-fd6a-4514-89bc-cb49f037a536');\n",
              "          const dataTable =\n",
              "            await google.colab.kernel.invokeFunction('convertToInteractive',\n",
              "                                                     [key], {});\n",
              "          if (!dataTable) return;\n",
              "\n",
              "          const docLinkHtml = 'Like what you see? Visit the ' +\n",
              "            '<a target=\"_blank\" href=https://colab.research.google.com/notebooks/data_table.ipynb>data table notebook</a>'\n",
              "            + ' to learn more about interactive tables.';\n",
              "          element.innerHTML = '';\n",
              "          dataTable['output_type'] = 'display_data';\n",
              "          await google.colab.output.renderOutput(dataTable, element);\n",
              "          const docLink = document.createElement('div');\n",
              "          docLink.innerHTML = docLinkHtml;\n",
              "          element.appendChild(docLink);\n",
              "        }\n",
              "      </script>\n",
              "    </div>\n",
              "  </div>\n",
              "  "
            ]
          },
          "metadata": {},
          "execution_count": 52
        }
      ],
      "source": [
        "#Target search\n",
        "target = new_client.target\n",
        "target_query = target.search('influenza')\n",
        "targets = pd.DataFrame.from_dict(target_query)\n",
        "targets"
      ]
    },
    {
      "cell_type": "markdown",
      "id": "4ac75414",
      "metadata": {
        "id": "4ac75414"
      },
      "source": [
        "## **We will select and retrieve bioactivity data for *Influenza A virus Hemagglutinin.***\n"
      ]
    },
    {
      "cell_type": "markdown",
      "id": "86f9fcf8",
      "metadata": {
        "id": "86f9fcf8"
      },
      "source": [
        "For this we will asign the entry (the target protein) to the *selected_target* variable."
      ]
    },
    {
      "cell_type": "code",
      "execution_count": 53,
      "id": "51dfb428",
      "metadata": {
        "colab": {
          "base_uri": "https://localhost:8080/",
          "height": 35
        },
        "id": "51dfb428",
        "outputId": "8d16657a-f8d3-4787-afd8-eeb2590a0d60"
      },
      "outputs": [
        {
          "output_type": "execute_result",
          "data": {
            "text/plain": [
              "'CHEMBL4918'"
            ],
            "application/vnd.google.colaboratory.intrinsic+json": {
              "type": "string"
            }
          },
          "metadata": {},
          "execution_count": 53
        }
      ],
      "source": [
        "selected_target = targets.target_chembl_id[4]\n",
        "selected_target"
      ]
    },
    {
      "cell_type": "markdown",
      "id": "7144f120",
      "metadata": {
        "id": "7144f120"
      },
      "source": [
        "Now it will retrieve only bioactivity data for *Influenza A virus Hemagglutinin* that are reported as IC$_{50}$ values in nM (nanomolar) unit.\""
      ]
    },
    {
      "cell_type": "code",
      "execution_count": 54,
      "id": "be3df344",
      "metadata": {
        "colab": {
          "base_uri": "https://localhost:8080/",
          "height": 275
        },
        "id": "be3df344",
        "outputId": "185665de-cfcc-4dd3-f75c-10ad0565d27d"
      },
      "outputs": [
        {
          "output_type": "execute_result",
          "data": {
            "text/plain": [
              "  activity_comment  activity_id activity_properties assay_chembl_id  \\\n",
              "0             None     12201437                  []   CHEMBL2209966   \n",
              "1             None     12201438                  []   CHEMBL2209966   \n",
              "\n",
              "                                   assay_description assay_type  \\\n",
              "0  Inhibition of hemagglutininin in Influenza A v...          B   \n",
              "1  Inhibition of hemagglutininin in Influenza A v...          B   \n",
              "\n",
              "  assay_variant_accession assay_variant_mutation bao_endpoint   bao_format  \\\n",
              "0                    None                   None  BAO_0000190  BAO_0000219   \n",
              "1                    None                   None  BAO_0000190  BAO_0000219   \n",
              "\n",
              "   ...                         target_organism  \\\n",
              "0  ...  Influenza A virus (strain A/X-31 H3N2)   \n",
              "1  ...  Influenza A virus (strain A/X-31 H3N2)   \n",
              "\n",
              "                  target_pref_name target_tax_id text_value  toid  type  \\\n",
              "0  Influenza A virus Hemagglutinin        132504       None  None  IC50   \n",
              "1  Influenza A virus Hemagglutinin        132504       None  None  IC50   \n",
              "\n",
              "   units    uo_units upper_value value  \n",
              "0     uM  UO_0000065        None   2.6  \n",
              "1     uM  UO_0000065        None   3.7  \n",
              "\n",
              "[2 rows x 45 columns]"
            ],
            "text/html": [
              "\n",
              "  <div id=\"df-2e9eafe6-9b18-4077-be7a-018c43948f03\">\n",
              "    <div class=\"colab-df-container\">\n",
              "      <div>\n",
              "<style scoped>\n",
              "    .dataframe tbody tr th:only-of-type {\n",
              "        vertical-align: middle;\n",
              "    }\n",
              "\n",
              "    .dataframe tbody tr th {\n",
              "        vertical-align: top;\n",
              "    }\n",
              "\n",
              "    .dataframe thead th {\n",
              "        text-align: right;\n",
              "    }\n",
              "</style>\n",
              "<table border=\"1\" class=\"dataframe\">\n",
              "  <thead>\n",
              "    <tr style=\"text-align: right;\">\n",
              "      <th></th>\n",
              "      <th>activity_comment</th>\n",
              "      <th>activity_id</th>\n",
              "      <th>activity_properties</th>\n",
              "      <th>assay_chembl_id</th>\n",
              "      <th>assay_description</th>\n",
              "      <th>assay_type</th>\n",
              "      <th>assay_variant_accession</th>\n",
              "      <th>assay_variant_mutation</th>\n",
              "      <th>bao_endpoint</th>\n",
              "      <th>bao_format</th>\n",
              "      <th>...</th>\n",
              "      <th>target_organism</th>\n",
              "      <th>target_pref_name</th>\n",
              "      <th>target_tax_id</th>\n",
              "      <th>text_value</th>\n",
              "      <th>toid</th>\n",
              "      <th>type</th>\n",
              "      <th>units</th>\n",
              "      <th>uo_units</th>\n",
              "      <th>upper_value</th>\n",
              "      <th>value</th>\n",
              "    </tr>\n",
              "  </thead>\n",
              "  <tbody>\n",
              "    <tr>\n",
              "      <th>0</th>\n",
              "      <td>None</td>\n",
              "      <td>12201437</td>\n",
              "      <td>[]</td>\n",
              "      <td>CHEMBL2209966</td>\n",
              "      <td>Inhibition of hemagglutininin in Influenza A v...</td>\n",
              "      <td>B</td>\n",
              "      <td>None</td>\n",
              "      <td>None</td>\n",
              "      <td>BAO_0000190</td>\n",
              "      <td>BAO_0000219</td>\n",
              "      <td>...</td>\n",
              "      <td>Influenza A virus (strain A/X-31 H3N2)</td>\n",
              "      <td>Influenza A virus Hemagglutinin</td>\n",
              "      <td>132504</td>\n",
              "      <td>None</td>\n",
              "      <td>None</td>\n",
              "      <td>IC50</td>\n",
              "      <td>uM</td>\n",
              "      <td>UO_0000065</td>\n",
              "      <td>None</td>\n",
              "      <td>2.6</td>\n",
              "    </tr>\n",
              "    <tr>\n",
              "      <th>1</th>\n",
              "      <td>None</td>\n",
              "      <td>12201438</td>\n",
              "      <td>[]</td>\n",
              "      <td>CHEMBL2209966</td>\n",
              "      <td>Inhibition of hemagglutininin in Influenza A v...</td>\n",
              "      <td>B</td>\n",
              "      <td>None</td>\n",
              "      <td>None</td>\n",
              "      <td>BAO_0000190</td>\n",
              "      <td>BAO_0000219</td>\n",
              "      <td>...</td>\n",
              "      <td>Influenza A virus (strain A/X-31 H3N2)</td>\n",
              "      <td>Influenza A virus Hemagglutinin</td>\n",
              "      <td>132504</td>\n",
              "      <td>None</td>\n",
              "      <td>None</td>\n",
              "      <td>IC50</td>\n",
              "      <td>uM</td>\n",
              "      <td>UO_0000065</td>\n",
              "      <td>None</td>\n",
              "      <td>3.7</td>\n",
              "    </tr>\n",
              "  </tbody>\n",
              "</table>\n",
              "<p>2 rows × 45 columns</p>\n",
              "</div>\n",
              "      <button class=\"colab-df-convert\" onclick=\"convertToInteractive('df-2e9eafe6-9b18-4077-be7a-018c43948f03')\"\n",
              "              title=\"Convert this dataframe to an interactive table.\"\n",
              "              style=\"display:none;\">\n",
              "        \n",
              "  <svg xmlns=\"http://www.w3.org/2000/svg\" height=\"24px\"viewBox=\"0 0 24 24\"\n",
              "       width=\"24px\">\n",
              "    <path d=\"M0 0h24v24H0V0z\" fill=\"none\"/>\n",
              "    <path d=\"M18.56 5.44l.94 2.06.94-2.06 2.06-.94-2.06-.94-.94-2.06-.94 2.06-2.06.94zm-11 1L8.5 8.5l.94-2.06 2.06-.94-2.06-.94L8.5 2.5l-.94 2.06-2.06.94zm10 10l.94 2.06.94-2.06 2.06-.94-2.06-.94-.94-2.06-.94 2.06-2.06.94z\"/><path d=\"M17.41 7.96l-1.37-1.37c-.4-.4-.92-.59-1.43-.59-.52 0-1.04.2-1.43.59L10.3 9.45l-7.72 7.72c-.78.78-.78 2.05 0 2.83L4 21.41c.39.39.9.59 1.41.59.51 0 1.02-.2 1.41-.59l7.78-7.78 2.81-2.81c.8-.78.8-2.07 0-2.86zM5.41 20L4 18.59l7.72-7.72 1.47 1.35L5.41 20z\"/>\n",
              "  </svg>\n",
              "      </button>\n",
              "      \n",
              "  <style>\n",
              "    .colab-df-container {\n",
              "      display:flex;\n",
              "      flex-wrap:wrap;\n",
              "      gap: 12px;\n",
              "    }\n",
              "\n",
              "    .colab-df-convert {\n",
              "      background-color: #E8F0FE;\n",
              "      border: none;\n",
              "      border-radius: 50%;\n",
              "      cursor: pointer;\n",
              "      display: none;\n",
              "      fill: #1967D2;\n",
              "      height: 32px;\n",
              "      padding: 0 0 0 0;\n",
              "      width: 32px;\n",
              "    }\n",
              "\n",
              "    .colab-df-convert:hover {\n",
              "      background-color: #E2EBFA;\n",
              "      box-shadow: 0px 1px 2px rgba(60, 64, 67, 0.3), 0px 1px 3px 1px rgba(60, 64, 67, 0.15);\n",
              "      fill: #174EA6;\n",
              "    }\n",
              "\n",
              "    [theme=dark] .colab-df-convert {\n",
              "      background-color: #3B4455;\n",
              "      fill: #D2E3FC;\n",
              "    }\n",
              "\n",
              "    [theme=dark] .colab-df-convert:hover {\n",
              "      background-color: #434B5C;\n",
              "      box-shadow: 0px 1px 3px 1px rgba(0, 0, 0, 0.15);\n",
              "      filter: drop-shadow(0px 1px 2px rgba(0, 0, 0, 0.3));\n",
              "      fill: #FFFFFF;\n",
              "    }\n",
              "  </style>\n",
              "\n",
              "      <script>\n",
              "        const buttonEl =\n",
              "          document.querySelector('#df-2e9eafe6-9b18-4077-be7a-018c43948f03 button.colab-df-convert');\n",
              "        buttonEl.style.display =\n",
              "          google.colab.kernel.accessAllowed ? 'block' : 'none';\n",
              "\n",
              "        async function convertToInteractive(key) {\n",
              "          const element = document.querySelector('#df-2e9eafe6-9b18-4077-be7a-018c43948f03');\n",
              "          const dataTable =\n",
              "            await google.colab.kernel.invokeFunction('convertToInteractive',\n",
              "                                                     [key], {});\n",
              "          if (!dataTable) return;\n",
              "\n",
              "          const docLinkHtml = 'Like what you see? Visit the ' +\n",
              "            '<a target=\"_blank\" href=https://colab.research.google.com/notebooks/data_table.ipynb>data table notebook</a>'\n",
              "            + ' to learn more about interactive tables.';\n",
              "          element.innerHTML = '';\n",
              "          dataTable['output_type'] = 'display_data';\n",
              "          await google.colab.output.renderOutput(dataTable, element);\n",
              "          const docLink = document.createElement('div');\n",
              "          docLink.innerHTML = docLinkHtml;\n",
              "          element.appendChild(docLink);\n",
              "        }\n",
              "      </script>\n",
              "    </div>\n",
              "  </div>\n",
              "  "
            ]
          },
          "metadata": {},
          "execution_count": 54
        }
      ],
      "source": [
        "activity = new_client.activity\n",
        "res = activity.filter(target_chembl_id=selected_target).filter(standard_type=\"IC50\")\n",
        "\n",
        "df = pd.DataFrame.from_dict(res)\n",
        "\n",
        "df"
      ]
    },
    {
      "cell_type": "code",
      "execution_count": 55,
      "id": "810c1e6e",
      "metadata": {
        "colab": {
          "base_uri": "https://localhost:8080/"
        },
        "id": "810c1e6e",
        "outputId": "373c7ea2-1740-4701-90c4-d89b1cd7869f"
      },
      "outputs": [
        {
          "output_type": "execute_result",
          "data": {
            "text/plain": [
              "array(['IC50'], dtype=object)"
            ]
          },
          "metadata": {},
          "execution_count": 55
        }
      ],
      "source": [
        "df.standard_type.unique()"
      ]
    },
    {
      "cell_type": "markdown",
      "id": "22bd6fb5",
      "metadata": {
        "id": "22bd6fb5"
      },
      "source": [
        "Finally, we will save the resulting bioactivity to a CSV file **bioactivity_data.csv**."
      ]
    },
    {
      "cell_type": "code",
      "execution_count": 56,
      "id": "13dcb056",
      "metadata": {
        "id": "13dcb056"
      },
      "outputs": [],
      "source": [
        "df.to_csv('bioactivity_data.csv', index=False)"
      ]
    },
    {
      "cell_type": "code",
      "execution_count": 57,
      "id": "312e84cd",
      "metadata": {
        "colab": {
          "base_uri": "https://localhost:8080/"
        },
        "id": "312e84cd",
        "outputId": "e190690c-d712-456d-ac3a-859c11f8a56c"
      },
      "outputs": [
        {
          "output_type": "stream",
          "name": "stdout",
          "text": [
            "Mounted at /content/gdrive/\n"
          ]
        }
      ],
      "source": [
        "from google.colab import drive\n",
        "drive.mount('/content/gdrive/', force_remount=True)"
      ]
    },
    {
      "cell_type": "markdown",
      "source": [
        "Now, we will create a folder named **data** in our **Colab Notebooks** folder on Google Drive."
      ],
      "metadata": {
        "id": "d4QFN27p2ljk"
      },
      "id": "d4QFN27p2ljk"
    },
    {
      "cell_type": "code",
      "execution_count": 58,
      "id": "5697120e",
      "metadata": {
        "colab": {
          "base_uri": "https://localhost:8080/"
        },
        "id": "5697120e",
        "outputId": "82cb81cd-5bbb-4f59-b4e8-6ee1871f71d4"
      },
      "outputs": [
        {
          "output_type": "stream",
          "name": "stdout",
          "text": [
            "mkdir: cannot create directory ‘/content/gdrive/My Drive/Colab Notebooks/data’: File exists\n"
          ]
        }
      ],
      "source": [
        "! mkdir \"/content/gdrive/My Drive/Colab Notebooks/data\""
      ]
    },
    {
      "cell_type": "code",
      "source": [
        "! cp bioactivity_data.csv \"/content/gdrive/My Drive/Colab Notebooks/data\""
      ],
      "metadata": {
        "id": "i0oV0Wve3B-Z"
      },
      "id": "i0oV0Wve3B-Z",
      "execution_count": 59,
      "outputs": []
    },
    {
      "cell_type": "code",
      "source": [
        "! ls -l \"/content/gdrive/My Drive/Colab Notebooks/data\""
      ],
      "metadata": {
        "colab": {
          "base_uri": "https://localhost:8080/"
        },
        "id": "g61I3_uP3Z5h",
        "outputId": "03c64dc4-3afe-4ba6-9213-ebf74b048a12"
      },
      "id": "g61I3_uP3Z5h",
      "execution_count": 60,
      "outputs": [
        {
          "output_type": "stream",
          "name": "stdout",
          "text": [
            "total 12\n",
            "-rw------- 1 root root 2072 Oct  3 18:19 bioactivity_data.csv\n",
            "-rw------- 1 root root 9337 Oct  3 18:10 bioactivity_preprocessed_data.csv\n"
          ]
        }
      ]
    },
    {
      "cell_type": "markdown",
      "source": [
        "So far we have the following CSV files:"
      ],
      "metadata": {
        "id": "PR-zgtKk55gP"
      },
      "id": "PR-zgtKk55gP"
    },
    {
      "cell_type": "code",
      "source": [
        "!ls"
      ],
      "metadata": {
        "colab": {
          "base_uri": "https://localhost:8080/"
        },
        "id": "B-kAOD6d59iM",
        "outputId": "9819483d-f33f-42c6-c9be-5dff8bce7a4f"
      },
      "id": "B-kAOD6d59iM",
      "execution_count": 61,
      "outputs": [
        {
          "output_type": "stream",
          "name": "stdout",
          "text": [
            "bioactivity_data.csv  bioactivity_preprocessed_data.csv  gdrive  sample_data\n"
          ]
        }
      ]
    },
    {
      "cell_type": "markdown",
      "source": [
        "Let's take a glimpse of the **bioactivity_data.csv** file we've just created. "
      ],
      "metadata": {
        "id": "TLRTTgmn6BOb"
      },
      "id": "TLRTTgmn6BOb"
    },
    {
      "cell_type": "code",
      "source": [
        "! head bioactivity_data.csv"
      ],
      "metadata": {
        "colab": {
          "base_uri": "https://localhost:8080/"
        },
        "id": "5t8eApaO5-xa",
        "outputId": "3d2b1e9a-2349-4f4f-a175-9262f196f678"
      },
      "id": "5t8eApaO5-xa",
      "execution_count": 62,
      "outputs": [
        {
          "output_type": "stream",
          "name": "stdout",
          "text": [
            "activity_comment,activity_id,activity_properties,assay_chembl_id,assay_description,assay_type,assay_variant_accession,assay_variant_mutation,bao_endpoint,bao_format,bao_label,canonical_smiles,data_validity_comment,data_validity_description,document_chembl_id,document_journal,document_year,ligand_efficiency,molecule_chembl_id,molecule_pref_name,parent_molecule_chembl_id,pchembl_value,potential_duplicate,qudt_units,record_id,relation,src_id,standard_flag,standard_relation,standard_text_value,standard_type,standard_units,standard_upper_value,standard_value,target_chembl_id,target_organism,target_pref_name,target_tax_id,text_value,toid,type,units,uo_units,upper_value,value\n",
            ",12201437,[],CHEMBL2209966,Inhibition of hemagglutininin in Influenza A virus (A/X-31(H3N2)) infected in chicken red blood cells assessed as inhibition of hemolysis preincubated for 1 hr prior to addition of red blood cells measured at pH 5.0 by spectrophotometric analysis,B,,,BAO_0000190,BAO_0000219,cell-based format,Cc1nc2sccn2c1C(=O)NN1C(=O)C(C)SC12CCC(C)CC2,,,CHEMBL2203281,Bioorg. Med. Chem.,2012,\"{'bei': '14.75', 'le': '0.31', 'lle': '2.37', 'sei': '8.37'}\",CHEMBL2207987,,CHEMBL2207987,5.58,0,http://www.openphacts.org/units/Nanomolar,1761868,=,1,1,=,,IC50,nM,,2600.0,CHEMBL4918,Influenza A virus (strain A/X-31 H3N2),Influenza A virus Hemagglutinin,132504,,,IC50,uM,UO_0000065,,2.6\n",
            ",12201438,[],CHEMBL2209966,Inhibition of hemagglutininin in Influenza A virus (A/X-31(H3N2)) infected in chicken red blood cells assessed as inhibition of hemolysis preincubated for 1 hr prior to addition of red blood cells measured at pH 5.0 by spectrophotometric analysis,B,,,BAO_0000190,BAO_0000219,cell-based format,CC1CCC2(CC1)SC(C)C(=O)N2NC(=O)C12CC3CC(CC(C3)C1)C2,,,CHEMBL2203281,Bioorg. Med. Chem.,2012,\"{'bei': '14.42', 'le': '0.29', 'lle': '1.33', 'sei': '10.99'}\",CHEMBL2207978,,CHEMBL2207978,5.43,0,http://www.openphacts.org/units/Nanomolar,1761859,=,1,1,=,,IC50,nM,,3700.0,CHEMBL4918,Influenza A virus (strain A/X-31 H3N2),Influenza A virus Hemagglutinin,132504,,,IC50,uM,UO_0000065,,3.7\n"
          ]
        }
      ]
    },
    {
      "cell_type": "markdown",
      "source": [
        "## **Handling Missing Data**"
      ],
      "metadata": {
        "id": "046P_DiG7EZN"
      },
      "id": "046P_DiG7EZN"
    },
    {
      "cell_type": "markdown",
      "source": [
        "If any compounds has missing value for the **standard_value** column then drop it."
      ],
      "metadata": {
        "id": "h9MaG6xi7KL1"
      },
      "id": "h9MaG6xi7KL1"
    },
    {
      "cell_type": "code",
      "source": [
        "df2 = df[df.standard_value.notna()]\n",
        "df2"
      ],
      "metadata": {
        "colab": {
          "base_uri": "https://localhost:8080/",
          "height": 275
        },
        "id": "H-f-i0ov6afL",
        "outputId": "5034909a-581b-4c56-c86b-d5b2a115a6db"
      },
      "id": "H-f-i0ov6afL",
      "execution_count": 63,
      "outputs": [
        {
          "output_type": "execute_result",
          "data": {
            "text/plain": [
              "  activity_comment  activity_id activity_properties assay_chembl_id  \\\n",
              "0             None     12201437                  []   CHEMBL2209966   \n",
              "1             None     12201438                  []   CHEMBL2209966   \n",
              "\n",
              "                                   assay_description assay_type  \\\n",
              "0  Inhibition of hemagglutininin in Influenza A v...          B   \n",
              "1  Inhibition of hemagglutininin in Influenza A v...          B   \n",
              "\n",
              "  assay_variant_accession assay_variant_mutation bao_endpoint   bao_format  \\\n",
              "0                    None                   None  BAO_0000190  BAO_0000219   \n",
              "1                    None                   None  BAO_0000190  BAO_0000219   \n",
              "\n",
              "   ...                         target_organism  \\\n",
              "0  ...  Influenza A virus (strain A/X-31 H3N2)   \n",
              "1  ...  Influenza A virus (strain A/X-31 H3N2)   \n",
              "\n",
              "                  target_pref_name target_tax_id text_value  toid  type  \\\n",
              "0  Influenza A virus Hemagglutinin        132504       None  None  IC50   \n",
              "1  Influenza A virus Hemagglutinin        132504       None  None  IC50   \n",
              "\n",
              "   units    uo_units upper_value value  \n",
              "0     uM  UO_0000065        None   2.6  \n",
              "1     uM  UO_0000065        None   3.7  \n",
              "\n",
              "[2 rows x 45 columns]"
            ],
            "text/html": [
              "\n",
              "  <div id=\"df-eb142995-ef22-44a6-a1a2-addc8f18235d\">\n",
              "    <div class=\"colab-df-container\">\n",
              "      <div>\n",
              "<style scoped>\n",
              "    .dataframe tbody tr th:only-of-type {\n",
              "        vertical-align: middle;\n",
              "    }\n",
              "\n",
              "    .dataframe tbody tr th {\n",
              "        vertical-align: top;\n",
              "    }\n",
              "\n",
              "    .dataframe thead th {\n",
              "        text-align: right;\n",
              "    }\n",
              "</style>\n",
              "<table border=\"1\" class=\"dataframe\">\n",
              "  <thead>\n",
              "    <tr style=\"text-align: right;\">\n",
              "      <th></th>\n",
              "      <th>activity_comment</th>\n",
              "      <th>activity_id</th>\n",
              "      <th>activity_properties</th>\n",
              "      <th>assay_chembl_id</th>\n",
              "      <th>assay_description</th>\n",
              "      <th>assay_type</th>\n",
              "      <th>assay_variant_accession</th>\n",
              "      <th>assay_variant_mutation</th>\n",
              "      <th>bao_endpoint</th>\n",
              "      <th>bao_format</th>\n",
              "      <th>...</th>\n",
              "      <th>target_organism</th>\n",
              "      <th>target_pref_name</th>\n",
              "      <th>target_tax_id</th>\n",
              "      <th>text_value</th>\n",
              "      <th>toid</th>\n",
              "      <th>type</th>\n",
              "      <th>units</th>\n",
              "      <th>uo_units</th>\n",
              "      <th>upper_value</th>\n",
              "      <th>value</th>\n",
              "    </tr>\n",
              "  </thead>\n",
              "  <tbody>\n",
              "    <tr>\n",
              "      <th>0</th>\n",
              "      <td>None</td>\n",
              "      <td>12201437</td>\n",
              "      <td>[]</td>\n",
              "      <td>CHEMBL2209966</td>\n",
              "      <td>Inhibition of hemagglutininin in Influenza A v...</td>\n",
              "      <td>B</td>\n",
              "      <td>None</td>\n",
              "      <td>None</td>\n",
              "      <td>BAO_0000190</td>\n",
              "      <td>BAO_0000219</td>\n",
              "      <td>...</td>\n",
              "      <td>Influenza A virus (strain A/X-31 H3N2)</td>\n",
              "      <td>Influenza A virus Hemagglutinin</td>\n",
              "      <td>132504</td>\n",
              "      <td>None</td>\n",
              "      <td>None</td>\n",
              "      <td>IC50</td>\n",
              "      <td>uM</td>\n",
              "      <td>UO_0000065</td>\n",
              "      <td>None</td>\n",
              "      <td>2.6</td>\n",
              "    </tr>\n",
              "    <tr>\n",
              "      <th>1</th>\n",
              "      <td>None</td>\n",
              "      <td>12201438</td>\n",
              "      <td>[]</td>\n",
              "      <td>CHEMBL2209966</td>\n",
              "      <td>Inhibition of hemagglutininin in Influenza A v...</td>\n",
              "      <td>B</td>\n",
              "      <td>None</td>\n",
              "      <td>None</td>\n",
              "      <td>BAO_0000190</td>\n",
              "      <td>BAO_0000219</td>\n",
              "      <td>...</td>\n",
              "      <td>Influenza A virus (strain A/X-31 H3N2)</td>\n",
              "      <td>Influenza A virus Hemagglutinin</td>\n",
              "      <td>132504</td>\n",
              "      <td>None</td>\n",
              "      <td>None</td>\n",
              "      <td>IC50</td>\n",
              "      <td>uM</td>\n",
              "      <td>UO_0000065</td>\n",
              "      <td>None</td>\n",
              "      <td>3.7</td>\n",
              "    </tr>\n",
              "  </tbody>\n",
              "</table>\n",
              "<p>2 rows × 45 columns</p>\n",
              "</div>\n",
              "      <button class=\"colab-df-convert\" onclick=\"convertToInteractive('df-eb142995-ef22-44a6-a1a2-addc8f18235d')\"\n",
              "              title=\"Convert this dataframe to an interactive table.\"\n",
              "              style=\"display:none;\">\n",
              "        \n",
              "  <svg xmlns=\"http://www.w3.org/2000/svg\" height=\"24px\"viewBox=\"0 0 24 24\"\n",
              "       width=\"24px\">\n",
              "    <path d=\"M0 0h24v24H0V0z\" fill=\"none\"/>\n",
              "    <path d=\"M18.56 5.44l.94 2.06.94-2.06 2.06-.94-2.06-.94-.94-2.06-.94 2.06-2.06.94zm-11 1L8.5 8.5l.94-2.06 2.06-.94-2.06-.94L8.5 2.5l-.94 2.06-2.06.94zm10 10l.94 2.06.94-2.06 2.06-.94-2.06-.94-.94-2.06-.94 2.06-2.06.94z\"/><path d=\"M17.41 7.96l-1.37-1.37c-.4-.4-.92-.59-1.43-.59-.52 0-1.04.2-1.43.59L10.3 9.45l-7.72 7.72c-.78.78-.78 2.05 0 2.83L4 21.41c.39.39.9.59 1.41.59.51 0 1.02-.2 1.41-.59l7.78-7.78 2.81-2.81c.8-.78.8-2.07 0-2.86zM5.41 20L4 18.59l7.72-7.72 1.47 1.35L5.41 20z\"/>\n",
              "  </svg>\n",
              "      </button>\n",
              "      \n",
              "  <style>\n",
              "    .colab-df-container {\n",
              "      display:flex;\n",
              "      flex-wrap:wrap;\n",
              "      gap: 12px;\n",
              "    }\n",
              "\n",
              "    .colab-df-convert {\n",
              "      background-color: #E8F0FE;\n",
              "      border: none;\n",
              "      border-radius: 50%;\n",
              "      cursor: pointer;\n",
              "      display: none;\n",
              "      fill: #1967D2;\n",
              "      height: 32px;\n",
              "      padding: 0 0 0 0;\n",
              "      width: 32px;\n",
              "    }\n",
              "\n",
              "    .colab-df-convert:hover {\n",
              "      background-color: #E2EBFA;\n",
              "      box-shadow: 0px 1px 2px rgba(60, 64, 67, 0.3), 0px 1px 3px 1px rgba(60, 64, 67, 0.15);\n",
              "      fill: #174EA6;\n",
              "    }\n",
              "\n",
              "    [theme=dark] .colab-df-convert {\n",
              "      background-color: #3B4455;\n",
              "      fill: #D2E3FC;\n",
              "    }\n",
              "\n",
              "    [theme=dark] .colab-df-convert:hover {\n",
              "      background-color: #434B5C;\n",
              "      box-shadow: 0px 1px 3px 1px rgba(0, 0, 0, 0.15);\n",
              "      filter: drop-shadow(0px 1px 2px rgba(0, 0, 0, 0.3));\n",
              "      fill: #FFFFFF;\n",
              "    }\n",
              "  </style>\n",
              "\n",
              "      <script>\n",
              "        const buttonEl =\n",
              "          document.querySelector('#df-eb142995-ef22-44a6-a1a2-addc8f18235d button.colab-df-convert');\n",
              "        buttonEl.style.display =\n",
              "          google.colab.kernel.accessAllowed ? 'block' : 'none';\n",
              "\n",
              "        async function convertToInteractive(key) {\n",
              "          const element = document.querySelector('#df-eb142995-ef22-44a6-a1a2-addc8f18235d');\n",
              "          const dataTable =\n",
              "            await google.colab.kernel.invokeFunction('convertToInteractive',\n",
              "                                                     [key], {});\n",
              "          if (!dataTable) return;\n",
              "\n",
              "          const docLinkHtml = 'Like what you see? Visit the ' +\n",
              "            '<a target=\"_blank\" href=https://colab.research.google.com/notebooks/data_table.ipynb>data table notebook</a>'\n",
              "            + ' to learn more about interactive tables.';\n",
              "          element.innerHTML = '';\n",
              "          dataTable['output_type'] = 'display_data';\n",
              "          await google.colab.output.renderOutput(dataTable, element);\n",
              "          const docLink = document.createElement('div');\n",
              "          docLink.innerHTML = docLinkHtml;\n",
              "          element.appendChild(docLink);\n",
              "        }\n",
              "      </script>\n",
              "    </div>\n",
              "  </div>\n",
              "  "
            ]
          },
          "metadata": {},
          "execution_count": 63
        }
      ]
    },
    {
      "cell_type": "markdown",
      "source": [
        "Apparently, for this dataset there is no missing data. But we can use the above code cell for bioactivity data of other target protein."
      ],
      "metadata": {
        "id": "yPyxQc1o7fjB"
      },
      "id": "yPyxQc1o7fjB"
    },
    {
      "cell_type": "markdown",
      "source": [
        "## **Data pre-processing of the bioactivity data**"
      ],
      "metadata": {
        "id": "agMpQNU18JOT"
      },
      "id": "agMpQNU18JOT"
    },
    {
      "cell_type": "markdown",
      "source": [
        "### **Labeling compounds as either being active, inactive or intermediate**"
      ],
      "metadata": {
        "id": "FfUjMPTs8QRP"
      },
      "id": "FfUjMPTs8QRP"
    },
    {
      "cell_type": "markdown",
      "source": [
        "The bioactivity data is in the IC50 unit. Compunds having values of less than 1,000 nM will be considered to be **active** while those greater than 10,000 nM will be considered to be **inactive**. As for those calues in between 1,000 and 10,000 will be refferred to be as **intermediate**"
      ],
      "metadata": {
        "id": "GXRypYIE8d2n"
      },
      "id": "GXRypYIE8d2n"
    },
    {
      "cell_type": "code",
      "source": [
        "bioactivity_class = []\n",
        "for i in df2.standard_value:\n",
        "  if float(i) >= 10000:\n",
        "    bioactivity_class.append(\"inactive\")\n",
        "  elif float(i) <= 1000:\n",
        "    bioactivity_class.append(\"active\")\n",
        "  else:\n",
        "    bioactivity_class.append(\"intermediate\")"
      ],
      "metadata": {
        "id": "Ml6UQRO-8HF5"
      },
      "id": "Ml6UQRO-8HF5",
      "execution_count": 64,
      "outputs": []
    },
    {
      "cell_type": "markdown",
      "source": [
        "### **Iterate the *molecule_chembl_id* to a list**"
      ],
      "metadata": {
        "id": "YKDBCSK69svn"
      },
      "id": "YKDBCSK69svn"
    },
    {
      "cell_type": "code",
      "source": [
        "mol_cid = []\n",
        "for i in df2.molecule_chembl_id:\n",
        "  mol_cid.append(i)"
      ],
      "metadata": {
        "id": "uFW2ATD39r6W"
      },
      "id": "uFW2ATD39r6W",
      "execution_count": 65,
      "outputs": []
    },
    {
      "cell_type": "markdown",
      "source": [
        "### **Iterate *canonical_smiles* to a list**"
      ],
      "metadata": {
        "id": "dsjsyCdH98Sn"
      },
      "id": "dsjsyCdH98Sn"
    },
    {
      "cell_type": "code",
      "source": [
        "canonical_smiles = []\n",
        "for i in df2.canonical_smiles:\n",
        "  canonical_smiles.append(i)"
      ],
      "metadata": {
        "id": "pSClI9_x97bB"
      },
      "id": "pSClI9_x97bB",
      "execution_count": 66,
      "outputs": []
    },
    {
      "cell_type": "markdown",
      "source": [
        "### **Iterate *standard_value* to a list**"
      ],
      "metadata": {
        "id": "IHPAmCJX_wUl"
      },
      "id": "IHPAmCJX_wUl"
    },
    {
      "cell_type": "code",
      "source": [
        "standard_value = []\n",
        "for i in df2.standard_value:\n",
        "  standard_value.append(i)"
      ],
      "metadata": {
        "id": "qY6AotmY_vrC"
      },
      "id": "qY6AotmY_vrC",
      "execution_count": 67,
      "outputs": []
    },
    {
      "cell_type": "markdown",
      "source": [
        "### **Combine the 4 lists into a dataframe**"
      ],
      "metadata": {
        "id": "T5EvcWIIABBm"
      },
      "id": "T5EvcWIIABBm"
    },
    {
      "cell_type": "code",
      "source": [
        "selection = ['molecule_chembl_id', 'canonical_smiles', 'standard_value']\n",
        "df3 = df2[selection]\n",
        "df3"
      ],
      "metadata": {
        "colab": {
          "base_uri": "https://localhost:8080/",
          "height": 112
        },
        "id": "4VAaf-ngAATB",
        "outputId": "e155bd03-d6df-4d60-f5ef-3f223eddef08"
      },
      "id": "4VAaf-ngAATB",
      "execution_count": 68,
      "outputs": [
        {
          "output_type": "execute_result",
          "data": {
            "text/plain": [
              "  molecule_chembl_id                                   canonical_smiles  \\\n",
              "0      CHEMBL2207987        Cc1nc2sccn2c1C(=O)NN1C(=O)C(C)SC12CCC(C)CC2   \n",
              "1      CHEMBL2207978  CC1CCC2(CC1)SC(C)C(=O)N2NC(=O)C12CC3CC(CC(C3)C...   \n",
              "\n",
              "  standard_value  \n",
              "0         2600.0  \n",
              "1         3700.0  "
            ],
            "text/html": [
              "\n",
              "  <div id=\"df-bf4749f6-a7a5-45ea-91ed-9bbd11091841\">\n",
              "    <div class=\"colab-df-container\">\n",
              "      <div>\n",
              "<style scoped>\n",
              "    .dataframe tbody tr th:only-of-type {\n",
              "        vertical-align: middle;\n",
              "    }\n",
              "\n",
              "    .dataframe tbody tr th {\n",
              "        vertical-align: top;\n",
              "    }\n",
              "\n",
              "    .dataframe thead th {\n",
              "        text-align: right;\n",
              "    }\n",
              "</style>\n",
              "<table border=\"1\" class=\"dataframe\">\n",
              "  <thead>\n",
              "    <tr style=\"text-align: right;\">\n",
              "      <th></th>\n",
              "      <th>molecule_chembl_id</th>\n",
              "      <th>canonical_smiles</th>\n",
              "      <th>standard_value</th>\n",
              "    </tr>\n",
              "  </thead>\n",
              "  <tbody>\n",
              "    <tr>\n",
              "      <th>0</th>\n",
              "      <td>CHEMBL2207987</td>\n",
              "      <td>Cc1nc2sccn2c1C(=O)NN1C(=O)C(C)SC12CCC(C)CC2</td>\n",
              "      <td>2600.0</td>\n",
              "    </tr>\n",
              "    <tr>\n",
              "      <th>1</th>\n",
              "      <td>CHEMBL2207978</td>\n",
              "      <td>CC1CCC2(CC1)SC(C)C(=O)N2NC(=O)C12CC3CC(CC(C3)C...</td>\n",
              "      <td>3700.0</td>\n",
              "    </tr>\n",
              "  </tbody>\n",
              "</table>\n",
              "</div>\n",
              "      <button class=\"colab-df-convert\" onclick=\"convertToInteractive('df-bf4749f6-a7a5-45ea-91ed-9bbd11091841')\"\n",
              "              title=\"Convert this dataframe to an interactive table.\"\n",
              "              style=\"display:none;\">\n",
              "        \n",
              "  <svg xmlns=\"http://www.w3.org/2000/svg\" height=\"24px\"viewBox=\"0 0 24 24\"\n",
              "       width=\"24px\">\n",
              "    <path d=\"M0 0h24v24H0V0z\" fill=\"none\"/>\n",
              "    <path d=\"M18.56 5.44l.94 2.06.94-2.06 2.06-.94-2.06-.94-.94-2.06-.94 2.06-2.06.94zm-11 1L8.5 8.5l.94-2.06 2.06-.94-2.06-.94L8.5 2.5l-.94 2.06-2.06.94zm10 10l.94 2.06.94-2.06 2.06-.94-2.06-.94-.94-2.06-.94 2.06-2.06.94z\"/><path d=\"M17.41 7.96l-1.37-1.37c-.4-.4-.92-.59-1.43-.59-.52 0-1.04.2-1.43.59L10.3 9.45l-7.72 7.72c-.78.78-.78 2.05 0 2.83L4 21.41c.39.39.9.59 1.41.59.51 0 1.02-.2 1.41-.59l7.78-7.78 2.81-2.81c.8-.78.8-2.07 0-2.86zM5.41 20L4 18.59l7.72-7.72 1.47 1.35L5.41 20z\"/>\n",
              "  </svg>\n",
              "      </button>\n",
              "      \n",
              "  <style>\n",
              "    .colab-df-container {\n",
              "      display:flex;\n",
              "      flex-wrap:wrap;\n",
              "      gap: 12px;\n",
              "    }\n",
              "\n",
              "    .colab-df-convert {\n",
              "      background-color: #E8F0FE;\n",
              "      border: none;\n",
              "      border-radius: 50%;\n",
              "      cursor: pointer;\n",
              "      display: none;\n",
              "      fill: #1967D2;\n",
              "      height: 32px;\n",
              "      padding: 0 0 0 0;\n",
              "      width: 32px;\n",
              "    }\n",
              "\n",
              "    .colab-df-convert:hover {\n",
              "      background-color: #E2EBFA;\n",
              "      box-shadow: 0px 1px 2px rgba(60, 64, 67, 0.3), 0px 1px 3px 1px rgba(60, 64, 67, 0.15);\n",
              "      fill: #174EA6;\n",
              "    }\n",
              "\n",
              "    [theme=dark] .colab-df-convert {\n",
              "      background-color: #3B4455;\n",
              "      fill: #D2E3FC;\n",
              "    }\n",
              "\n",
              "    [theme=dark] .colab-df-convert:hover {\n",
              "      background-color: #434B5C;\n",
              "      box-shadow: 0px 1px 3px 1px rgba(0, 0, 0, 0.15);\n",
              "      filter: drop-shadow(0px 1px 2px rgba(0, 0, 0, 0.3));\n",
              "      fill: #FFFFFF;\n",
              "    }\n",
              "  </style>\n",
              "\n",
              "      <script>\n",
              "        const buttonEl =\n",
              "          document.querySelector('#df-bf4749f6-a7a5-45ea-91ed-9bbd11091841 button.colab-df-convert');\n",
              "        buttonEl.style.display =\n",
              "          google.colab.kernel.accessAllowed ? 'block' : 'none';\n",
              "\n",
              "        async function convertToInteractive(key) {\n",
              "          const element = document.querySelector('#df-bf4749f6-a7a5-45ea-91ed-9bbd11091841');\n",
              "          const dataTable =\n",
              "            await google.colab.kernel.invokeFunction('convertToInteractive',\n",
              "                                                     [key], {});\n",
              "          if (!dataTable) return;\n",
              "\n",
              "          const docLinkHtml = 'Like what you see? Visit the ' +\n",
              "            '<a target=\"_blank\" href=https://colab.research.google.com/notebooks/data_table.ipynb>data table notebook</a>'\n",
              "            + ' to learn more about interactive tables.';\n",
              "          element.innerHTML = '';\n",
              "          dataTable['output_type'] = 'display_data';\n",
              "          await google.colab.output.renderOutput(dataTable, element);\n",
              "          const docLink = document.createElement('div');\n",
              "          docLink.innerHTML = docLinkHtml;\n",
              "          element.appendChild(docLink);\n",
              "        }\n",
              "      </script>\n",
              "    </div>\n",
              "  </div>\n",
              "  "
            ]
          },
          "metadata": {},
          "execution_count": 68
        }
      ]
    },
    {
      "cell_type": "code",
      "source": [
        "pd.concat([df3,pd.Series(bioactivity_class)], axis = 1)"
      ],
      "metadata": {
        "colab": {
          "base_uri": "https://localhost:8080/",
          "height": 112
        },
        "id": "CpAIDmppBVRE",
        "outputId": "9eca9970-e6e1-4953-875a-7e2d3b70046d"
      },
      "id": "CpAIDmppBVRE",
      "execution_count": 69,
      "outputs": [
        {
          "output_type": "execute_result",
          "data": {
            "text/plain": [
              "  molecule_chembl_id                                   canonical_smiles  \\\n",
              "0      CHEMBL2207987        Cc1nc2sccn2c1C(=O)NN1C(=O)C(C)SC12CCC(C)CC2   \n",
              "1      CHEMBL2207978  CC1CCC2(CC1)SC(C)C(=O)N2NC(=O)C12CC3CC(CC(C3)C...   \n",
              "\n",
              "  standard_value             0  \n",
              "0         2600.0  intermediate  \n",
              "1         3700.0  intermediate  "
            ],
            "text/html": [
              "\n",
              "  <div id=\"df-9dacd93d-5811-4370-8461-167b230a5290\">\n",
              "    <div class=\"colab-df-container\">\n",
              "      <div>\n",
              "<style scoped>\n",
              "    .dataframe tbody tr th:only-of-type {\n",
              "        vertical-align: middle;\n",
              "    }\n",
              "\n",
              "    .dataframe tbody tr th {\n",
              "        vertical-align: top;\n",
              "    }\n",
              "\n",
              "    .dataframe thead th {\n",
              "        text-align: right;\n",
              "    }\n",
              "</style>\n",
              "<table border=\"1\" class=\"dataframe\">\n",
              "  <thead>\n",
              "    <tr style=\"text-align: right;\">\n",
              "      <th></th>\n",
              "      <th>molecule_chembl_id</th>\n",
              "      <th>canonical_smiles</th>\n",
              "      <th>standard_value</th>\n",
              "      <th>0</th>\n",
              "    </tr>\n",
              "  </thead>\n",
              "  <tbody>\n",
              "    <tr>\n",
              "      <th>0</th>\n",
              "      <td>CHEMBL2207987</td>\n",
              "      <td>Cc1nc2sccn2c1C(=O)NN1C(=O)C(C)SC12CCC(C)CC2</td>\n",
              "      <td>2600.0</td>\n",
              "      <td>intermediate</td>\n",
              "    </tr>\n",
              "    <tr>\n",
              "      <th>1</th>\n",
              "      <td>CHEMBL2207978</td>\n",
              "      <td>CC1CCC2(CC1)SC(C)C(=O)N2NC(=O)C12CC3CC(CC(C3)C...</td>\n",
              "      <td>3700.0</td>\n",
              "      <td>intermediate</td>\n",
              "    </tr>\n",
              "  </tbody>\n",
              "</table>\n",
              "</div>\n",
              "      <button class=\"colab-df-convert\" onclick=\"convertToInteractive('df-9dacd93d-5811-4370-8461-167b230a5290')\"\n",
              "              title=\"Convert this dataframe to an interactive table.\"\n",
              "              style=\"display:none;\">\n",
              "        \n",
              "  <svg xmlns=\"http://www.w3.org/2000/svg\" height=\"24px\"viewBox=\"0 0 24 24\"\n",
              "       width=\"24px\">\n",
              "    <path d=\"M0 0h24v24H0V0z\" fill=\"none\"/>\n",
              "    <path d=\"M18.56 5.44l.94 2.06.94-2.06 2.06-.94-2.06-.94-.94-2.06-.94 2.06-2.06.94zm-11 1L8.5 8.5l.94-2.06 2.06-.94-2.06-.94L8.5 2.5l-.94 2.06-2.06.94zm10 10l.94 2.06.94-2.06 2.06-.94-2.06-.94-.94-2.06-.94 2.06-2.06.94z\"/><path d=\"M17.41 7.96l-1.37-1.37c-.4-.4-.92-.59-1.43-.59-.52 0-1.04.2-1.43.59L10.3 9.45l-7.72 7.72c-.78.78-.78 2.05 0 2.83L4 21.41c.39.39.9.59 1.41.59.51 0 1.02-.2 1.41-.59l7.78-7.78 2.81-2.81c.8-.78.8-2.07 0-2.86zM5.41 20L4 18.59l7.72-7.72 1.47 1.35L5.41 20z\"/>\n",
              "  </svg>\n",
              "      </button>\n",
              "      \n",
              "  <style>\n",
              "    .colab-df-container {\n",
              "      display:flex;\n",
              "      flex-wrap:wrap;\n",
              "      gap: 12px;\n",
              "    }\n",
              "\n",
              "    .colab-df-convert {\n",
              "      background-color: #E8F0FE;\n",
              "      border: none;\n",
              "      border-radius: 50%;\n",
              "      cursor: pointer;\n",
              "      display: none;\n",
              "      fill: #1967D2;\n",
              "      height: 32px;\n",
              "      padding: 0 0 0 0;\n",
              "      width: 32px;\n",
              "    }\n",
              "\n",
              "    .colab-df-convert:hover {\n",
              "      background-color: #E2EBFA;\n",
              "      box-shadow: 0px 1px 2px rgba(60, 64, 67, 0.3), 0px 1px 3px 1px rgba(60, 64, 67, 0.15);\n",
              "      fill: #174EA6;\n",
              "    }\n",
              "\n",
              "    [theme=dark] .colab-df-convert {\n",
              "      background-color: #3B4455;\n",
              "      fill: #D2E3FC;\n",
              "    }\n",
              "\n",
              "    [theme=dark] .colab-df-convert:hover {\n",
              "      background-color: #434B5C;\n",
              "      box-shadow: 0px 1px 3px 1px rgba(0, 0, 0, 0.15);\n",
              "      filter: drop-shadow(0px 1px 2px rgba(0, 0, 0, 0.3));\n",
              "      fill: #FFFFFF;\n",
              "    }\n",
              "  </style>\n",
              "\n",
              "      <script>\n",
              "        const buttonEl =\n",
              "          document.querySelector('#df-9dacd93d-5811-4370-8461-167b230a5290 button.colab-df-convert');\n",
              "        buttonEl.style.display =\n",
              "          google.colab.kernel.accessAllowed ? 'block' : 'none';\n",
              "\n",
              "        async function convertToInteractive(key) {\n",
              "          const element = document.querySelector('#df-9dacd93d-5811-4370-8461-167b230a5290');\n",
              "          const dataTable =\n",
              "            await google.colab.kernel.invokeFunction('convertToInteractive',\n",
              "                                                     [key], {});\n",
              "          if (!dataTable) return;\n",
              "\n",
              "          const docLinkHtml = 'Like what you see? Visit the ' +\n",
              "            '<a target=\"_blank\" href=https://colab.research.google.com/notebooks/data_table.ipynb>data table notebook</a>'\n",
              "            + ' to learn more about interactive tables.';\n",
              "          element.innerHTML = '';\n",
              "          dataTable['output_type'] = 'display_data';\n",
              "          await google.colab.output.renderOutput(dataTable, element);\n",
              "          const docLink = document.createElement('div');\n",
              "          docLink.innerHTML = docLinkHtml;\n",
              "          element.appendChild(docLink);\n",
              "        }\n",
              "      </script>\n",
              "    </div>\n",
              "  </div>\n",
              "  "
            ]
          },
          "metadata": {},
          "execution_count": 69
        }
      ]
    },
    {
      "cell_type": "markdown",
      "source": [
        "Lastly we will save the dataframe to a CSV file, and copy to Google Drive."
      ],
      "metadata": {
        "id": "zHaZrWjHCJMd"
      },
      "id": "zHaZrWjHCJMd"
    },
    {
      "cell_type": "code",
      "source": [
        "df3.to_csv('bioactivity_preprocessed_data.csv', index = False)"
      ],
      "metadata": {
        "id": "h_aW56JMB2sZ"
      },
      "id": "h_aW56JMB2sZ",
      "execution_count": 70,
      "outputs": []
    },
    {
      "cell_type": "code",
      "source": [
        "! ls -l"
      ],
      "metadata": {
        "colab": {
          "base_uri": "https://localhost:8080/"
        },
        "id": "5qAc2KgZCcPc",
        "outputId": "fe30a651-f3d1-4bd5-e6cc-986de604b528"
      },
      "id": "5qAc2KgZCcPc",
      "execution_count": 71,
      "outputs": [
        {
          "output_type": "stream",
          "name": "stdout",
          "text": [
            "total 16\n",
            "-rw-r--r-- 1 root root 2072 Oct  3 18:19 bioactivity_data.csv\n",
            "-rw-r--r-- 1 root root  188 Oct  3 18:19 bioactivity_preprocessed_data.csv\n",
            "drwx------ 5 root root 4096 Oct  3 18:19 gdrive\n",
            "drwxr-xr-x 1 root root 4096 Sep 26 13:45 sample_data\n"
          ]
        }
      ]
    },
    {
      "cell_type": "code",
      "source": [
        "! cp bioactivity_preprocessed_data.csv \"/content/gdrive/My Drive/Colab Notebooks/data\""
      ],
      "metadata": {
        "id": "WzcWgr-zCf74"
      },
      "id": "WzcWgr-zCf74",
      "execution_count": 72,
      "outputs": []
    },
    {
      "cell_type": "code",
      "source": [
        "! ls \"/content/gdrive/My Drive/Colab Notebooks/data\""
      ],
      "metadata": {
        "colab": {
          "base_uri": "https://localhost:8080/"
        },
        "id": "q0YbGMosC0FP",
        "outputId": "395574d2-2d16-4d5d-ea02-6b142c69133c"
      },
      "id": "q0YbGMosC0FP",
      "execution_count": 73,
      "outputs": [
        {
          "output_type": "stream",
          "name": "stdout",
          "text": [
            "bioactivity_data.csv  bioactivity_preprocessed_data.csv\n"
          ]
        }
      ]
    },
    {
      "cell_type": "code",
      "source": [],
      "metadata": {
        "id": "JRa-EXeHC5KV"
      },
      "id": "JRa-EXeHC5KV",
      "execution_count": 73,
      "outputs": []
    }
  ],
  "metadata": {
    "kernelspec": {
      "display_name": "Python 3 (ipykernel)",
      "language": "python",
      "name": "python3"
    },
    "language_info": {
      "codemirror_mode": {
        "name": "ipython",
        "version": 3
      },
      "file_extension": ".py",
      "mimetype": "text/x-python",
      "name": "python",
      "nbconvert_exporter": "python",
      "pygments_lexer": "ipython3",
      "version": "3.10.6"
    },
    "colab": {
      "provenance": [],
      "collapsed_sections": [
        "046P_DiG7EZN"
      ]
    }
  },
  "nbformat": 4,
  "nbformat_minor": 5
}